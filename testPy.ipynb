{
 "cells": [
  {
   "cell_type": "code",
   "execution_count": 47,
   "id": "bc50f298-4a22-4a2c-baa0-873a3cf16435",
   "metadata": {},
   "outputs": [
    {
     "name": "stdout",
     "output_type": "stream",
     "text": [
      "two3\n"
     ]
    }
   ],
   "source": [
    "arr = [1, 'two', '3']\n",
    "print(arr[1] + arr[2])"
   ]
  },
  {
   "cell_type": "code",
   "execution_count": 48,
   "id": "1ef5b829-6416-4259-8cd3-57c28ca4798b",
   "metadata": {},
   "outputs": [
    {
     "name": "stdout",
     "output_type": "stream",
     "text": [
      "Van Anh is 30 and his main hobby is Game\n"
     ]
    }
   ],
   "source": [
    "name = 'Van Anh'\n",
    "age = '30'\n",
    "hobby = 'Game'\n",
    "\n",
    "print(\"{} is {} and his main hobby is {}\".format(name, age, hobby))"
   ]
  },
  {
   "cell_type": "code",
   "execution_count": null,
   "id": "96addb70-354e-43a9-99e5-3ece28cc8ebc",
   "metadata": {},
   "outputs": [],
   "source": [
    "user_name = input(\"Hi, what's your name?\")\n",
    "print(\"Please enter three numbers\")\n",
    "num_one = int(input(\"Please choose your first number: \"))\n",
    "num_two = int(input(\"Please choose your second number: \"))\n",
    "result = num_one + num_two\n",
    "print(\"Hi, {}. Result is {}\".format(user_name, result))"
   ]
  },
  {
   "cell_type": "code",
   "execution_count": null,
   "id": "4573bb83-5cca-4082-9a65-c3485af4e02e",
   "metadata": {},
   "outputs": [],
   "source": [
    "#Dice rolling simulator\n",
    "from random import randint\n",
    "dice_one = randint(1, 6)\n",
    "dice_two = randint(1, 6)\n",
    "dice_total = dice_one + dice_two\n",
    "print(\"Dice simlation complete! Dice One: {}, Dice Two: {}. The total is: {}\".format(dice_one, dice_two, dice_total))"
   ]
  },
  {
   "cell_type": "code",
   "execution_count": 1,
   "id": "ee752ee4-8b79-4bca-8ecc-f712c1f23379",
   "metadata": {},
   "outputs": [
    {
     "name": "stdin",
     "output_type": "stream",
     "text": [
      "Please enter a number between 1 and 100:  6\n"
     ]
    },
    {
     "name": "stdout",
     "output_type": "stream",
     "text": [
      "Your guess: 6, the actual computer number: 66\n",
      "Too low!\n"
     ]
    },
    {
     "name": "stdin",
     "output_type": "stream",
     "text": [
      "Please enter a number between 1 and 100:  66\n"
     ]
    },
    {
     "name": "stdout",
     "output_type": "stream",
     "text": [
      "Your guess: 66, the actual computer number: 66\n",
      "Congrats! Your guess was correct!\n"
     ]
    }
   ],
   "source": [
    "import random\n",
    "\n",
    "computer_num = random.randint(1, 100)\n",
    "user_guess = int(input(\"Please enter a number between 1 and 100: \"))\n",
    "\n",
    "while True:\n",
    "    print(\"Your guess: {}, the actual computer number: {}\".format(user_guess, computer_num))\n",
    "    if user_guess == computer_num:\n",
    "        print(\"Congrats! Your guess was correct!\")\n",
    "        break;\n",
    "    elif user_guess > computer_num:\n",
    "        print(\"Too high!\")\n",
    "        user_guess = int(input(\"Please enter a number between 1 and 100: \"))\n",
    "    elif user_guess < computer_num:\n",
    "        print(\"Too low!\")\n",
    "        user_guess = int(input(\"Please enter a number between 1 and 100: \"))\n",
    "    else: \n",
    "        print(\"Wrong sucka\")"
   ]
  },
  {
   "cell_type": "code",
   "execution_count": null,
   "id": "161031c0-77e7-4431-88da-239b2dafff96",
   "metadata": {},
   "outputs": [],
   "source": [
    "my_list = [4,5,6,'ghi there', [1,2,3, [4,5,6,7,8], 9]]\n",
    "print(my_list[4][3][1])"
   ]
  },
  {
   "cell_type": "code",
   "execution_count": null,
   "id": "2fee3fed-7dd9-400b-9557-a43c6d48bf5d",
   "metadata": {},
   "outputs": [],
   "source": [
    "import random\n",
    "\n",
    "colours = ['red', 'green', 'blue', 'yellow']\n",
    "body_parts = ['left foot', 'right foot', 'left hand', 'right hand']\n",
    "\n",
    "colour_choice = random.choice(colours)\n",
    "body_choice = random.choice(body_parts)\n",
    "\n",
    "print('Twister spinner says: {}, {}'.format(body_choice, colour_choice))\n"
   ]
  },
  {
   "cell_type": "code",
   "execution_count": null,
   "id": "69403af3-c76f-4905-936b-55e0d8884d0f",
   "metadata": {},
   "outputs": [],
   "source": [
    "'''\n",
    "List methods:\n",
    "-append\n",
    "-remove\n",
    "-pop\n",
    "-sort\n",
    "-reverse\n",
    "List functions:\n",
    "-len()\n",
    "-min()\n",
    "-max()\n",
    "'''"
   ]
  },
  {
   "cell_type": "code",
   "execution_count": 116,
   "id": "ea8287a3-1f0e-4fdd-84b6-33f9e0dff699",
   "metadata": {},
   "outputs": [],
   "source": [
    "numberList = [1, 2, 3, 4, 5]\n",
    "wordList = ['one', 'two', 'three', 'four', 'five']\n",
    "abcdeList = ['a', 'b', 'c', 'd', 'e']"
   ]
  },
  {
   "cell_type": "code",
   "execution_count": 117,
   "id": "dfb00e98-7ccf-4743-a0b5-598b514a6637",
   "metadata": {},
   "outputs": [],
   "source": [
    "numberList.sort(reverse=True)\n",
    "wordList.sort(key=len)\n",
    "abcdeList.sort(reverse=True)"
   ]
  },
  {
   "cell_type": "code",
   "execution_count": 119,
   "id": "81087356-8656-4269-bb57-cecbdd7addf9",
   "metadata": {},
   "outputs": [
    {
     "name": "stdout",
     "output_type": "stream",
     "text": [
      "[5, 4, 3, 2, 1] ['one', 'two', 'four', 'five', 'three'] ['e', 'd', 'c', 'b', 'a']\n",
      "1 two 5\n"
     ]
    }
   ],
   "source": [
    "print(numberList, wordList, abcdeList)\n",
    "print(min(numberList), max(wordList), len(abcdeList))"
   ]
  },
  {
   "cell_type": "code",
   "execution_count": 192,
   "id": "6c7b6ea8-8bb7-47aa-9c70-a654e22a89c2",
   "metadata": {},
   "outputs": [
    {
     "name": "stdout",
     "output_type": "stream",
     "text": [
      "0 1 2 3 4 5 6 7 8 9 10 \n",
      "10 9 8 7 6 5 4 3 2 1 0 \n",
      "1 3 5 Total is: 9\n"
     ]
    }
   ],
   "source": [
    "#Executing code a certain number of times\n",
    "total = 0\n",
    "\n",
    "for i in range(0, 11, 1):\n",
    "    print(i, end=' ')\n",
    "print()\n",
    "for i in range(10, -1, -1):\n",
    "    print(i, end=' ')\n",
    "print()\n",
    "\n",
    "for number in range(11):  \n",
    "    if(number % 2 == 0): \n",
    "        continue\n",
    "    elif(number == 7):\n",
    "        break\n",
    "    else:\n",
    "        total += number\n",
    "        print(number, end=' ')\n",
    "       \n",
    "        \n",
    "    \n",
    "print(\"Total is: {}\".format(total))"
   ]
  },
  {
   "cell_type": "code",
   "execution_count": 216,
   "id": "3755b375-f576-470b-8ff1-d39a65618e95",
   "metadata": {},
   "outputs": [
    {
     "name": "stdin",
     "output_type": "stream",
     "text": [
      "Check time:  1\n"
     ]
    },
    {
     "name": "stdout",
     "output_type": "stream",
     "text": [
      "AM\n"
     ]
    }
   ],
   "source": [
    "time = int(input(\"Check time: \"))\n",
    "result = ''\n",
    "while True:\n",
    "    if(time <= 12): result = 'AM' \n",
    "    else: result = 'PM'\n",
    "    \n",
    "    #print(result) if time <= 24 else print(\"Errors\")\n",
    "    \n",
    "    if(time > 0 and time <= 24): \n",
    "        print(result) \n",
    "        break\n",
    "    else: \n",
    "        time = int(input(\"Errors. Check time: \"))"
   ]
  },
  {
   "cell_type": "code",
   "execution_count": 218,
   "id": "1ed5d56b-46bb-46ec-9ee8-04e0f02f8e6f",
   "metadata": {},
   "outputs": [
    {
     "name": "stdout",
     "output_type": "stream",
     "text": [
      "[0, 2, 4, 6, 8, 10]\n",
      "[True, False, True, False, True, False, True, False, True, False, True]\n"
     ]
    }
   ],
   "source": [
    "myList = [i for i in range(11) if i % 2 == 0]\n",
    "print(myList)\n",
    "myList = [i % 2 == 0 for i in range(11)]\n",
    "print(myList)"
   ]
  },
  {
   "cell_type": "code",
   "execution_count": 260,
   "id": "c19035ce-5bbf-4158-a678-cdaecb7a7cec",
   "metadata": {},
   "outputs": [
    {
     "name": "stdout",
     "output_type": "stream",
     "text": [
      " ['one', 'two', 'three', 'four', 'five'] \n",
      " ('one', 'two', 'three', 'four', 'five') \n",
      " {'four', 'two', 'one', 'five', 'three'} \n",
      " {'one': 1, 'two': 2, 'three': 3, 'four': 4, 'five': 5}\n"
     ]
    }
   ],
   "source": [
    "'''\n",
    "List\n",
    "Tuple\n",
    "Set\n",
    "Dictionary\n",
    "'''\n",
    "my_list = ['one', 'two', 'three', 'four', 'five']\n",
    "my_tuple = ('one', 'two', 'three', 'four', 'five')\n",
    "my_set = {'one', 'two', 'three', 'four', 'five'}\n",
    "my_dictionary = {'one': 1, 'two': 2, 'three': 3, 'four': 4, 'five': 5}\n",
    "\n",
    "print('',my_list,'\\n',my_tuple,'\\n',my_set,'\\n',my_dictionary)"
   ]
  },
  {
   "cell_type": "code",
   "execution_count": 277,
   "id": "d8c2219e-ecae-4b0b-b674-713e5f162214",
   "metadata": {},
   "outputs": [
    {
     "name": "stdout",
     "output_type": "stream",
     "text": [
      "dict_items([('one', 1), ('two', 2), ('three', 3), ('four', 4), ('five', 5)])\n",
      "dict_keys(['one', 'two', 'three', 'four', 'five'])\n",
      "dict_values([1, 2, 3, 4, 5])\n",
      "one : 1\n",
      "two : 2\n",
      "three : 3\n",
      "four : 4\n",
      "five : 5\n"
     ]
    }
   ],
   "source": [
    "print(my_dictionary.items())\n",
    "print(my_dictionary.keys())\n",
    "print(my_dictionary.values())\n",
    "for key, value in my_dictionary.items():\n",
    "    print(key, ':', value)"
   ]
  },
  {
   "cell_type": "code",
   "execution_count": 291,
   "id": "ad2cb1da-89fd-4241-891f-8044041f366a",
   "metadata": {},
   "outputs": [
    {
     "name": "stdin",
     "output_type": "stream",
     "text": [
      "Please enter amount:  100\n",
      "Please enter currency(GPB, AUD, EUR, INR):  gpb\n"
     ]
    },
    {
     "name": "stdout",
     "output_type": "stream",
     "text": [
      "You asked to convert 100USD to GPB. The value is 80.0575 GPB\n"
     ]
    }
   ],
   "source": [
    "currency_rate = {'GPB': 0.800575, 'AUD': 1.432115, 'EUR': 0.897433, 'INR': 68.960472}\n",
    "converted_amount = 0\n",
    "\n",
    "user_amount = int(input('Please enter amount: '))\n",
    "user_currency = input('Please enter currency(GPB, AUD, EUR, INR): ').upper()\n",
    "\n",
    "for key, value in currency_rate.items():\n",
    "    if(user_currency == key): \n",
    "        converted_amount = user_amount * value\n",
    "        \n",
    "print(\"You asked to convert {}USD to {}. The value is {} {}\".format(user_amount, user_currency, converted_amount, user_currency))  if converted_amount != 0 else print(\"Your entered an invalid currency. Try again.\")"
   ]
  },
  {
   "cell_type": "code",
   "execution_count": 292,
   "id": "7171a1ec-18b1-4959-b893-6f371ca4f49a",
   "metadata": {},
   "outputs": [
    {
     "name": "stdin",
     "output_type": "stream",
     "text": [
      "Gues the number (it is 10) 4\n",
      "Gues the number (it is 10) 4\n",
      "Gues the number (it is 10) 1\n",
      "Gues the number (it is 10) 10\n"
     ]
    },
    {
     "name": "stdout",
     "output_type": "stream",
     "text": [
      "This is outside the while loop. Game has ended\n"
     ]
    }
   ],
   "source": [
    "#Loops in games\n",
    "play = True\n",
    "\n",
    "while play == True:\n",
    "    real_number = 10\n",
    "    user_guess = int(input('Gues the number (it is 10)'))\n",
    "    if user_guess == real_number:\n",
    "        play = False\n",
    "    input('Write more things: ')\n",
    "\n",
    "print('This is outside the while loop. Game has ended')"
   ]
  },
  {
   "cell_type": "code",
   "execution_count": 3,
   "id": "e0332bee-73a2-4306-879e-2a2d9f74af6d",
   "metadata": {},
   "outputs": [
    {
     "name": "stdin",
     "output_type": "stream",
     "text": [
      "Choose a number - 0 or 1 1\n"
     ]
    },
    {
     "name": "stdout",
     "output_type": "stream",
     "text": [
      "Computer: 1, User: 1\n",
      "You win!!!\n"
     ]
    },
    {
     "name": "stdin",
     "output_type": "stream",
     "text": [
      "Choose a number - 0 or 1 1\n"
     ]
    },
    {
     "name": "stdout",
     "output_type": "stream",
     "text": [
      "Computer: 1, User: 1\n",
      "You win!!!\n"
     ]
    },
    {
     "name": "stdin",
     "output_type": "stream",
     "text": [
      "Choose a number - 0 or 1 1\n"
     ]
    },
    {
     "name": "stdout",
     "output_type": "stream",
     "text": [
      "Computer: 0, User: 1\n",
      "You lose. You lose a life\n",
      "Lives left: 4\n"
     ]
    },
    {
     "name": "stdin",
     "output_type": "stream",
     "text": [
      "Choose a number - 0 or 1 0\n"
     ]
    },
    {
     "name": "stdout",
     "output_type": "stream",
     "text": [
      "Computer: 0, User: 0\n",
      "You win!!!\n"
     ]
    },
    {
     "name": "stdin",
     "output_type": "stream",
     "text": [
      "Choose a number - 0 or 1 1\n"
     ]
    },
    {
     "name": "stdout",
     "output_type": "stream",
     "text": [
      "Computer: 1, User: 1\n",
      "You win!!!\n"
     ]
    },
    {
     "name": "stdin",
     "output_type": "stream",
     "text": [
      "Choose a number - 0 or 1 1\n"
     ]
    },
    {
     "name": "stdout",
     "output_type": "stream",
     "text": [
      "Computer: 1, User: 1\n",
      "You win!!!\n"
     ]
    },
    {
     "name": "stdin",
     "output_type": "stream",
     "text": [
      "Choose a number - 0 or 1 1\n"
     ]
    },
    {
     "name": "stdout",
     "output_type": "stream",
     "text": [
      "Computer: 1, User: 1\n",
      "You win!!!\n"
     ]
    },
    {
     "name": "stdin",
     "output_type": "stream",
     "text": [
      "Choose a number - 0 or 1 1\n"
     ]
    },
    {
     "name": "stdout",
     "output_type": "stream",
     "text": [
      "Computer: 0, User: 1\n",
      "You lose. You lose a life\n",
      "Lives left: 3\n"
     ]
    },
    {
     "name": "stdin",
     "output_type": "stream",
     "text": [
      "Choose a number - 0 or 1 1\n"
     ]
    },
    {
     "name": "stdout",
     "output_type": "stream",
     "text": [
      "Computer: 0, User: 1\n",
      "You lose. You lose a life\n",
      "Lives left: 2\n"
     ]
    },
    {
     "name": "stdin",
     "output_type": "stream",
     "text": [
      "Choose a number - 0 or 1 1\n"
     ]
    },
    {
     "name": "stdout",
     "output_type": "stream",
     "text": [
      "Computer: 1, User: 1\n",
      "You win!!!\n"
     ]
    },
    {
     "name": "stdin",
     "output_type": "stream",
     "text": [
      "Choose a number - 0 or 1 1\n"
     ]
    },
    {
     "name": "stdout",
     "output_type": "stream",
     "text": [
      "Computer: 0, User: 1\n",
      "You lose. You lose a life\n",
      "Lives left: 1\n"
     ]
    },
    {
     "name": "stdin",
     "output_type": "stream",
     "text": [
      "Choose a number - 0 or 1 1\n"
     ]
    },
    {
     "name": "stdout",
     "output_type": "stream",
     "text": [
      "Computer: 0, User: 1\n",
      "You lose. You lose a life\n",
      "Lives left: 0\n"
     ]
    }
   ],
   "source": [
    "from random import randint\n",
    "user_lives = 5\n",
    "\n",
    "while True:\n",
    "    comp_num = randint(0,1)\n",
    "\n",
    "    user_guess = int(input('Choose a number - 0 or 1'))\n",
    "    print('Computer: {}, User: {}'.format(comp_num, user_guess))\n",
    "    \n",
    "    if user_guess == comp_num:\n",
    "        print('You win!!!')\n",
    "\n",
    "    else: \n",
    "        print('You lose. You lose a life')\n",
    "        user_lives -= 1\n",
    "        print('Lives left: {}'.format(user_lives))\n",
    "        \n",
    "    if user_lives == 0:\n",
    "        break"
   ]
  },
  {
   "cell_type": "code",
   "execution_count": 6,
   "id": "1c764ab0-da95-46b3-a04f-6ce267e86e33",
   "metadata": {},
   "outputs": [
    {
     "name": "stdin",
     "output_type": "stream",
     "text": [
      "Person Entering:  Mindy\n"
     ]
    },
    {
     "name": "stdout",
     "output_type": "stream",
     "text": [
      "Hi Mindy. How are you? Lovely morning. Hope you have a good day.\n"
     ]
    },
    {
     "name": "stdin",
     "output_type": "stream",
     "text": [
      "How's your day Great\n"
     ]
    }
   ],
   "source": [
    "person = ['Bill', 'Mindy', 'George', 'Mandy']\n",
    "\n",
    "def welcome_function(name):\n",
    "    print('Hi {}. How are you? Lovely morning. Hope you have a good day.'.format(name))\n",
    "    input(\"How's your day\")\n",
    "    \n",
    "person_entering = input('Person Entering: ')\n",
    "\n",
    "for name in person:\n",
    "    if(name == person_entering): welcome_function(name)\n",
    "\n",
    "if(person_entering == ''): print('Wadup')\n"
   ]
  },
  {
   "cell_type": "code",
   "execution_count": 18,
   "id": "baad5b16-8f67-4727-906a-09cd38a1d8ea",
   "metadata": {},
   "outputs": [
    {
     "name": "stdout",
     "output_type": "stream",
     "text": [
      "X is : 0\n",
      "X is : 1\n",
      "X is : 2\n",
      "X is : 3\n",
      "X is : 4\n",
      "X is : 5\n",
      "X is : 6\n",
      "X is : 7\n",
      "X is : 8\n",
      "X is : 9\n",
      "X is : 10\n",
      "The end!\n",
      "55\n"
     ]
    }
   ],
   "source": [
    "#Recursive Function\n",
    "def recursive_function(number):\n",
    "    print(\"X is : {}\".format(number))\n",
    "    number += 1\n",
    "    if number <= 10: recursive_function(number)\n",
    "    else: print(\"The end!\")\n",
    "\n",
    "recursive_function(0)\n",
    "\n",
    "def sum(number):\n",
    "    if number == 0: return number\n",
    "    else: return sum(number - 1) + number\n",
    "\n",
    "print(sum(10))"
   ]
  },
  {
   "cell_type": "code",
   "execution_count": null,
   "id": "ff1d65fb-e61d-448c-b09d-9cbc9fcf3d4b",
   "metadata": {},
   "outputs": [],
   "source": [
    "#Tic Tac Toe"
   ]
  },
  {
   "cell_type": "code",
   "execution_count": 6,
   "id": "eb09759d-04f4-4fa0-b04c-59161fef1ff6",
   "metadata": {},
   "outputs": [],
   "source": [
    "def draw_board(board):\n",
    "    row_1 = \"{}|{}|{}\".format(board[0],board[1],board[2])\n",
    "    row_2 = \"{}|{}|{}\".format(board[3],board[4],board[5])\n",
    "    row_3 = \"{}|{}|{}\".format(board[6],board[7],board[8])\n",
    "\n",
    "    print(row_1 + '\\n' + row_2 + '\\n' + row_3)"
   ]
  },
  {
   "cell_type": "code",
   "execution_count": 7,
   "id": "af5bcea0-2fe1-49c0-b616-10022f8a6105",
   "metadata": {},
   "outputs": [],
   "source": [
    "def user_move(board, user_type):\n",
    "    user_choice = int(input('Choose your space between 1-9')) - 1\n",
    "    if board[user_choice] != ' ':\n",
    "        print('Space already taken. Try again')\n",
    "        user_move(board, user_type)\n",
    "    else:\n",
    "        board[user_choice] = user_type\n",
    "        available_spaces.remove(user_choice)"
   ]
  },
  {
   "cell_type": "code",
   "execution_count": 8,
   "id": "50973ef8-1c8b-4c3b-aede-401b3fceae72",
   "metadata": {},
   "outputs": [],
   "source": [
    "def comp_move(board, user_type):\n",
    "    computer_choice = random.choice(available_spaces)\n",
    "    board[computer_choice] = user_type\n",
    "    available_spaces.remove(computer_choice)"
   ]
  },
  {
   "cell_type": "code",
   "execution_count": 9,
   "id": "1fdb0ac1-fd69-4cdc-bc14-bd00f4ce451f",
   "metadata": {},
   "outputs": [],
   "source": [
    "def check_win(board, x_o):\n",
    "    if board[0] == x_o and board[1] == x_o and board[2] == x_o or board[3] == x_o and board[4] == x_o and board[5] == x_o or board[6] == x_o and board[7] == x_o and board[8] == x_o or board[0] == x_o and board[3] == x_o and board[6] == x_o or board[1] == x_o and board[4] == x_o and board[7] == x_o or board[2] == x_o and board[5] == x_o and board[8] == x_o or board[0] == x_o and board[4] == x_o and board[8] == x_o or board[2] == x_o and board[4] == x_o and board[6] == x_o :\n",
    "        play = False\n",
    "        print(\"Hooray! {} has won\".format(x_o))\n",
    "    else:\n",
    "        play = True\n",
    "        \n",
    "    return play"
   ]
  },
  {
   "cell_type": "code",
   "execution_count": 10,
   "id": "0f1ca285-e179-4c54-9ebc-4ae090094f80",
   "metadata": {},
   "outputs": [
    {
     "name": "stdout",
     "output_type": "stream",
     "text": [
      " | | \n",
      " | | \n",
      " | | \n"
     ]
    },
    {
     "name": "stdin",
     "output_type": "stream",
     "text": [
      "Would you like to play against the computer or friend? (c or f) f\n",
      "Choose your space between 1-9 1\n"
     ]
    },
    {
     "name": "stdout",
     "output_type": "stream",
     "text": [
      "x| | \n",
      " | | \n",
      " | | \n"
     ]
    },
    {
     "name": "stdin",
     "output_type": "stream",
     "text": [
      "Choose your space between 1-9 2\n"
     ]
    },
    {
     "name": "stdout",
     "output_type": "stream",
     "text": [
      "x|o| \n",
      " | | \n",
      " | | \n"
     ]
    },
    {
     "name": "stdin",
     "output_type": "stream",
     "text": [
      "Choose your space between 1-9 3\n"
     ]
    },
    {
     "name": "stdout",
     "output_type": "stream",
     "text": [
      "x|o|x\n",
      " | | \n",
      " | | \n"
     ]
    },
    {
     "name": "stdin",
     "output_type": "stream",
     "text": [
      "Choose your space between 1-9 4\n"
     ]
    },
    {
     "name": "stdout",
     "output_type": "stream",
     "text": [
      "x|o|x\n",
      "o| | \n",
      " | | \n"
     ]
    },
    {
     "name": "stdin",
     "output_type": "stream",
     "text": [
      "Choose your space between 1-9 5\n"
     ]
    },
    {
     "name": "stdout",
     "output_type": "stream",
     "text": [
      "x|o|x\n",
      "o|x| \n",
      " | | \n"
     ]
    },
    {
     "name": "stdin",
     "output_type": "stream",
     "text": [
      "Choose your space between 1-9 7\n"
     ]
    },
    {
     "name": "stdout",
     "output_type": "stream",
     "text": [
      "x|o|x\n",
      "o|x| \n",
      "o| | \n"
     ]
    },
    {
     "name": "stdin",
     "output_type": "stream",
     "text": [
      "Choose your space between 1-9 9\n"
     ]
    },
    {
     "name": "stdout",
     "output_type": "stream",
     "text": [
      "Hooray! x has won\n",
      "x|o|x\n",
      "o|x| \n",
      "o| |x\n",
      "End of the game\n"
     ]
    }
   ],
   "source": [
    "import random\n",
    "\n",
    "board = [\" \"] * 9\n",
    "available_spaces = [0,1,2,3,4,5,6,7,8]\n",
    "draw_board(board)\n",
    "play = True\n",
    "\n",
    "comp_or_friend = input(\"Would you like to play against the computer or friend? (c or f)\")\n",
    "\n",
    "while play:    \n",
    "    user_move(board, 'x')\n",
    "    play = check_win(board, 'x')\n",
    "    draw_board(board)\n",
    "    if play == False:\n",
    "        continue \n",
    "\n",
    "    if comp_or_friend == 'f':\n",
    "        user_move(board, 'o')\n",
    "    elif comp_or_friend == 'c':\n",
    "        comp_move(board, 'o')\n",
    "    play = check_win(board, 'o')\n",
    "    draw_board(board)\n",
    "\n",
    "print('End of the game')"
   ]
  },
  {
   "cell_type": "code",
   "execution_count": 3,
   "id": "5236e4f8-07a6-4f27-b23c-c63352d8def3",
   "metadata": {},
   "outputs": [],
   "source": [
    "import requests\n",
    "\n",
    "url = 'http://www.google.com/'\n",
    "requests.get(url)\n",
    "response = requests.get(url)"
   ]
  },
  {
   "cell_type": "code",
   "execution_count": 4,
   "id": "8daf61af-21c7-44d2-9274-1a734d8a9600",
   "metadata": {},
   "outputs": [
    {
     "data": {
      "text/plain": [
       "{'a': 1, 'b': 0}"
      ]
     },
     "execution_count": 4,
     "metadata": {},
     "output_type": "execute_result"
    }
   ],
   "source": [
    "#.json\n",
    "\n",
    "myJson = {'John': 30, 'Adrian': 29, 'new':{'a': 1, 'b': 0}}\n",
    "myJson['new']"
   ]
  },
  {
   "cell_type": "code",
   "execution_count": 12,
   "id": "e220aa6f-5e13-48d5-ae29-8e79354c5c38",
   "metadata": {
    "collapsed": true,
    "jupyter": {
     "outputs_hidden": true
    }
   },
   "outputs": [
    {
     "name": "stdout",
     "output_type": "stream",
     "text": [
      "{'ARS': {'15m': 60482267.96, 'last': 60482267.96, 'buy': 60482267.96, 'sell': 60482267.96, 'symbol': 'ARS'}, 'AUD': {'15m': 92208.33, 'last': 92208.33, 'buy': 92208.33, 'sell': 92208.33, 'symbol': 'AUD'}, 'BRL': {'15m': 343697.3, 'last': 343697.3, 'buy': 343697.3, 'sell': 343697.3, 'symbol': 'BRL'}, 'CAD': {'15m': 84872.16, 'last': 84872.16, 'buy': 84872.16, 'sell': 84872.16, 'symbol': 'CAD'}, 'CHF': {'15m': 53225.95, 'last': 53225.95, 'buy': 53225.95, 'sell': 53225.95, 'symbol': 'CHF'}, 'CLP': {'15m': 58030862.67, 'last': 58030862.67, 'buy': 58030862.67, 'sell': 58030862.67, 'symbol': 'CLP'}, 'CNY': {'15m': 438941.79, 'last': 438941.79, 'buy': 438941.79, 'sell': 438941.79, 'symbol': 'CNY'}, 'CZK': {'15m': 1435168.46, 'last': 1435168.46, 'buy': 1435168.46, 'sell': 1435168.46, 'symbol': 'CZK'}, 'DKK': {'15m': 422477.02, 'last': 422477.02, 'buy': 422477.02, 'sell': 422477.02, 'symbol': 'DKK'}, 'EUR': {'15m': 56643.68, 'last': 56643.68, 'buy': 56643.68, 'sell': 56643.68, 'symbol': 'EUR'}, 'GBP': {'15m': 47467.76, 'last': 47467.76, 'buy': 47467.76, 'sell': 47467.76, 'symbol': 'GBP'}, 'HKD': {'15m': 482677.01, 'last': 482677.01, 'buy': 482677.01, 'sell': 482677.01, 'symbol': 'HKD'}, 'HRK': {'15m': 286414.31, 'last': 286414.31, 'buy': 286414.31, 'sell': 286414.31, 'symbol': 'HRK'}, 'HUF': {'15m': 22644704.58, 'last': 22644704.58, 'buy': 22644704.58, 'sell': 22644704.58, 'symbol': 'HUF'}, 'INR': {'15m': 5213700.11, 'last': 5213700.11, 'buy': 5213700.11, 'sell': 5213700.11, 'symbol': 'INR'}, 'ISK': {'15m': 8117688.04, 'last': 8117688.04, 'buy': 8117688.04, 'sell': 8117688.04, 'symbol': 'ISK'}, 'JPY': {'15m': 9230702.24, 'last': 9230702.24, 'buy': 9230702.24, 'sell': 9230702.24, 'symbol': 'JPY'}, 'KRW': {'15m': 83447905.55, 'last': 83447905.55, 'buy': 83447905.55, 'sell': 83447905.55, 'symbol': 'KRW'}, 'NZD': {'15m': 102037.71, 'last': 102037.71, 'buy': 102037.71, 'sell': 102037.71, 'symbol': 'NZD'}, 'PLN': {'15m': 243526.54, 'last': 243526.54, 'buy': 243526.54, 'sell': 243526.54, 'symbol': 'PLN'}, 'RON': {'15m': 227636.49, 'last': 227636.49, 'buy': 227636.49, 'sell': 227636.49, 'symbol': 'RON'}, 'RUB': {'15m': 6023053.54, 'last': 6023053.54, 'buy': 6023053.54, 'sell': 6023053.54, 'symbol': 'RUB'}, 'SEK': {'15m': 643515.33, 'last': 643515.33, 'buy': 643515.33, 'sell': 643515.33, 'symbol': 'SEK'}, 'SGD': {'15m': 80982.96, 'last': 80982.96, 'buy': 80982.96, 'sell': 80982.96, 'symbol': 'SGD'}, 'THB': {'15m': 2077974.06, 'last': 2077974.06, 'buy': 2077974.06, 'sell': 2077974.06, 'symbol': 'THB'}, 'TRY': {'15m': 2127493.0, 'last': 2127493.0, 'buy': 2127493.0, 'sell': 2127493.0, 'symbol': 'TRY'}, 'TWD': {'15m': 1999941.82, 'last': 1999941.82, 'buy': 1999941.82, 'sell': 1999941.82, 'symbol': 'TWD'}, 'USD': {'15m': 62093.02, 'last': 62093.02, 'buy': 62093.02, 'sell': 62093.02, 'symbol': 'USD'}}\n"
     ]
    }
   ],
   "source": [
    "currencyURL = 'https://blockchain.info/ticker'\n",
    "response = requests.get(currencyURL)\n",
    "\n",
    "data = response.json()\n",
    "print(data)"
   ]
  },
  {
   "cell_type": "code",
   "execution_count": 19,
   "id": "56693919-d122-4b7f-b340-392fa20fbd5f",
   "metadata": {
    "collapsed": true,
    "jupyter": {
     "outputs_hidden": true
    }
   },
   "outputs": [
    {
     "ename": "ConnectionError",
     "evalue": "HTTPSConnectionPool(host='blockchain.info', port=443): Max retries exceeded with url: /ticker (Caused by NameResolutionError(\"<urllib3.connection.HTTPSConnection object at 0x0000022BAD4E22D0>: Failed to resolve 'blockchain.info' ([Errno 11001] getaddrinfo failed)\"))",
     "output_type": "error",
     "traceback": [
      "\u001b[1;31m---------------------------------------------------------------------------\u001b[0m",
      "\u001b[1;31mgaierror\u001b[0m                                  Traceback (most recent call last)",
      "File \u001b[1;32mD:\\Projectpython\\pythonProject\\.venv\\Lib\\site-packages\\urllib3\\connection.py:198\u001b[0m, in \u001b[0;36mHTTPConnection._new_conn\u001b[1;34m(self)\u001b[0m\n\u001b[0;32m    197\u001b[0m \u001b[38;5;28;01mtry\u001b[39;00m:\n\u001b[1;32m--> 198\u001b[0m     sock \u001b[38;5;241m=\u001b[39m \u001b[43mconnection\u001b[49m\u001b[38;5;241;43m.\u001b[39;49m\u001b[43mcreate_connection\u001b[49m\u001b[43m(\u001b[49m\n\u001b[0;32m    199\u001b[0m \u001b[43m        \u001b[49m\u001b[43m(\u001b[49m\u001b[38;5;28;43mself\u001b[39;49m\u001b[38;5;241;43m.\u001b[39;49m\u001b[43m_dns_host\u001b[49m\u001b[43m,\u001b[49m\u001b[43m \u001b[49m\u001b[38;5;28;43mself\u001b[39;49m\u001b[38;5;241;43m.\u001b[39;49m\u001b[43mport\u001b[49m\u001b[43m)\u001b[49m\u001b[43m,\u001b[49m\n\u001b[0;32m    200\u001b[0m \u001b[43m        \u001b[49m\u001b[38;5;28;43mself\u001b[39;49m\u001b[38;5;241;43m.\u001b[39;49m\u001b[43mtimeout\u001b[49m\u001b[43m,\u001b[49m\n\u001b[0;32m    201\u001b[0m \u001b[43m        \u001b[49m\u001b[43msource_address\u001b[49m\u001b[38;5;241;43m=\u001b[39;49m\u001b[38;5;28;43mself\u001b[39;49m\u001b[38;5;241;43m.\u001b[39;49m\u001b[43msource_address\u001b[49m\u001b[43m,\u001b[49m\n\u001b[0;32m    202\u001b[0m \u001b[43m        \u001b[49m\u001b[43msocket_options\u001b[49m\u001b[38;5;241;43m=\u001b[39;49m\u001b[38;5;28;43mself\u001b[39;49m\u001b[38;5;241;43m.\u001b[39;49m\u001b[43msocket_options\u001b[49m\u001b[43m,\u001b[49m\n\u001b[0;32m    203\u001b[0m \u001b[43m    \u001b[49m\u001b[43m)\u001b[49m\n\u001b[0;32m    204\u001b[0m \u001b[38;5;28;01mexcept\u001b[39;00m socket\u001b[38;5;241m.\u001b[39mgaierror \u001b[38;5;28;01mas\u001b[39;00m e:\n",
      "File \u001b[1;32mD:\\Projectpython\\pythonProject\\.venv\\Lib\\site-packages\\urllib3\\util\\connection.py:60\u001b[0m, in \u001b[0;36mcreate_connection\u001b[1;34m(address, timeout, source_address, socket_options)\u001b[0m\n\u001b[0;32m     58\u001b[0m     \u001b[38;5;28;01mraise\u001b[39;00m LocationParseError(\u001b[38;5;124mf\u001b[39m\u001b[38;5;124m\"\u001b[39m\u001b[38;5;124m'\u001b[39m\u001b[38;5;132;01m{\u001b[39;00mhost\u001b[38;5;132;01m}\u001b[39;00m\u001b[38;5;124m'\u001b[39m\u001b[38;5;124m, label empty or too long\u001b[39m\u001b[38;5;124m\"\u001b[39m) \u001b[38;5;28;01mfrom\u001b[39;00m \u001b[38;5;28;01mNone\u001b[39;00m\n\u001b[1;32m---> 60\u001b[0m \u001b[38;5;28;01mfor\u001b[39;00m res \u001b[38;5;129;01min\u001b[39;00m \u001b[43msocket\u001b[49m\u001b[38;5;241;43m.\u001b[39;49m\u001b[43mgetaddrinfo\u001b[49m\u001b[43m(\u001b[49m\u001b[43mhost\u001b[49m\u001b[43m,\u001b[49m\u001b[43m \u001b[49m\u001b[43mport\u001b[49m\u001b[43m,\u001b[49m\u001b[43m \u001b[49m\u001b[43mfamily\u001b[49m\u001b[43m,\u001b[49m\u001b[43m \u001b[49m\u001b[43msocket\u001b[49m\u001b[38;5;241;43m.\u001b[39;49m\u001b[43mSOCK_STREAM\u001b[49m\u001b[43m)\u001b[49m:\n\u001b[0;32m     61\u001b[0m     af, socktype, proto, canonname, sa \u001b[38;5;241m=\u001b[39m res\n",
      "File \u001b[1;32m~\\AppData\\Local\\Programs\\Python\\Python312\\Lib\\socket.py:963\u001b[0m, in \u001b[0;36mgetaddrinfo\u001b[1;34m(host, port, family, type, proto, flags)\u001b[0m\n\u001b[0;32m    962\u001b[0m addrlist \u001b[38;5;241m=\u001b[39m []\n\u001b[1;32m--> 963\u001b[0m \u001b[38;5;28;01mfor\u001b[39;00m res \u001b[38;5;129;01min\u001b[39;00m \u001b[43m_socket\u001b[49m\u001b[38;5;241;43m.\u001b[39;49m\u001b[43mgetaddrinfo\u001b[49m\u001b[43m(\u001b[49m\u001b[43mhost\u001b[49m\u001b[43m,\u001b[49m\u001b[43m \u001b[49m\u001b[43mport\u001b[49m\u001b[43m,\u001b[49m\u001b[43m \u001b[49m\u001b[43mfamily\u001b[49m\u001b[43m,\u001b[49m\u001b[43m \u001b[49m\u001b[38;5;28;43mtype\u001b[39;49m\u001b[43m,\u001b[49m\u001b[43m \u001b[49m\u001b[43mproto\u001b[49m\u001b[43m,\u001b[49m\u001b[43m \u001b[49m\u001b[43mflags\u001b[49m\u001b[43m)\u001b[49m:\n\u001b[0;32m    964\u001b[0m     af, socktype, proto, canonname, sa \u001b[38;5;241m=\u001b[39m res\n",
      "\u001b[1;31mgaierror\u001b[0m: [Errno 11001] getaddrinfo failed",
      "\nThe above exception was the direct cause of the following exception:\n",
      "\u001b[1;31mNameResolutionError\u001b[0m                       Traceback (most recent call last)",
      "File \u001b[1;32mD:\\Projectpython\\pythonProject\\.venv\\Lib\\site-packages\\urllib3\\connectionpool.py:793\u001b[0m, in \u001b[0;36mHTTPConnectionPool.urlopen\u001b[1;34m(self, method, url, body, headers, retries, redirect, assert_same_host, timeout, pool_timeout, release_conn, chunked, body_pos, preload_content, decode_content, **response_kw)\u001b[0m\n\u001b[0;32m    792\u001b[0m \u001b[38;5;66;03m# Make the request on the HTTPConnection object\u001b[39;00m\n\u001b[1;32m--> 793\u001b[0m response \u001b[38;5;241m=\u001b[39m \u001b[38;5;28;43mself\u001b[39;49m\u001b[38;5;241;43m.\u001b[39;49m\u001b[43m_make_request\u001b[49m\u001b[43m(\u001b[49m\n\u001b[0;32m    794\u001b[0m \u001b[43m    \u001b[49m\u001b[43mconn\u001b[49m\u001b[43m,\u001b[49m\n\u001b[0;32m    795\u001b[0m \u001b[43m    \u001b[49m\u001b[43mmethod\u001b[49m\u001b[43m,\u001b[49m\n\u001b[0;32m    796\u001b[0m \u001b[43m    \u001b[49m\u001b[43murl\u001b[49m\u001b[43m,\u001b[49m\n\u001b[0;32m    797\u001b[0m \u001b[43m    \u001b[49m\u001b[43mtimeout\u001b[49m\u001b[38;5;241;43m=\u001b[39;49m\u001b[43mtimeout_obj\u001b[49m\u001b[43m,\u001b[49m\n\u001b[0;32m    798\u001b[0m \u001b[43m    \u001b[49m\u001b[43mbody\u001b[49m\u001b[38;5;241;43m=\u001b[39;49m\u001b[43mbody\u001b[49m\u001b[43m,\u001b[49m\n\u001b[0;32m    799\u001b[0m \u001b[43m    \u001b[49m\u001b[43mheaders\u001b[49m\u001b[38;5;241;43m=\u001b[39;49m\u001b[43mheaders\u001b[49m\u001b[43m,\u001b[49m\n\u001b[0;32m    800\u001b[0m \u001b[43m    \u001b[49m\u001b[43mchunked\u001b[49m\u001b[38;5;241;43m=\u001b[39;49m\u001b[43mchunked\u001b[49m\u001b[43m,\u001b[49m\n\u001b[0;32m    801\u001b[0m \u001b[43m    \u001b[49m\u001b[43mretries\u001b[49m\u001b[38;5;241;43m=\u001b[39;49m\u001b[43mretries\u001b[49m\u001b[43m,\u001b[49m\n\u001b[0;32m    802\u001b[0m \u001b[43m    \u001b[49m\u001b[43mresponse_conn\u001b[49m\u001b[38;5;241;43m=\u001b[39;49m\u001b[43mresponse_conn\u001b[49m\u001b[43m,\u001b[49m\n\u001b[0;32m    803\u001b[0m \u001b[43m    \u001b[49m\u001b[43mpreload_content\u001b[49m\u001b[38;5;241;43m=\u001b[39;49m\u001b[43mpreload_content\u001b[49m\u001b[43m,\u001b[49m\n\u001b[0;32m    804\u001b[0m \u001b[43m    \u001b[49m\u001b[43mdecode_content\u001b[49m\u001b[38;5;241;43m=\u001b[39;49m\u001b[43mdecode_content\u001b[49m\u001b[43m,\u001b[49m\n\u001b[0;32m    805\u001b[0m \u001b[43m    \u001b[49m\u001b[38;5;241;43m*\u001b[39;49m\u001b[38;5;241;43m*\u001b[39;49m\u001b[43mresponse_kw\u001b[49m\u001b[43m,\u001b[49m\n\u001b[0;32m    806\u001b[0m \u001b[43m\u001b[49m\u001b[43m)\u001b[49m\n\u001b[0;32m    808\u001b[0m \u001b[38;5;66;03m# Everything went great!\u001b[39;00m\n",
      "File \u001b[1;32mD:\\Projectpython\\pythonProject\\.venv\\Lib\\site-packages\\urllib3\\connectionpool.py:491\u001b[0m, in \u001b[0;36mHTTPConnectionPool._make_request\u001b[1;34m(self, conn, method, url, body, headers, retries, timeout, chunked, response_conn, preload_content, decode_content, enforce_content_length)\u001b[0m\n\u001b[0;32m    490\u001b[0m         new_e \u001b[38;5;241m=\u001b[39m _wrap_proxy_error(new_e, conn\u001b[38;5;241m.\u001b[39mproxy\u001b[38;5;241m.\u001b[39mscheme)\n\u001b[1;32m--> 491\u001b[0m     \u001b[38;5;28;01mraise\u001b[39;00m new_e\n\u001b[0;32m    493\u001b[0m \u001b[38;5;66;03m# conn.request() calls http.client.*.request, not the method in\u001b[39;00m\n\u001b[0;32m    494\u001b[0m \u001b[38;5;66;03m# urllib3.request. It also calls makefile (recv) on the socket.\u001b[39;00m\n",
      "File \u001b[1;32mD:\\Projectpython\\pythonProject\\.venv\\Lib\\site-packages\\urllib3\\connectionpool.py:467\u001b[0m, in \u001b[0;36mHTTPConnectionPool._make_request\u001b[1;34m(self, conn, method, url, body, headers, retries, timeout, chunked, response_conn, preload_content, decode_content, enforce_content_length)\u001b[0m\n\u001b[0;32m    466\u001b[0m \u001b[38;5;28;01mtry\u001b[39;00m:\n\u001b[1;32m--> 467\u001b[0m     \u001b[38;5;28;43mself\u001b[39;49m\u001b[38;5;241;43m.\u001b[39;49m\u001b[43m_validate_conn\u001b[49m\u001b[43m(\u001b[49m\u001b[43mconn\u001b[49m\u001b[43m)\u001b[49m\n\u001b[0;32m    468\u001b[0m \u001b[38;5;28;01mexcept\u001b[39;00m (SocketTimeout, BaseSSLError) \u001b[38;5;28;01mas\u001b[39;00m e:\n",
      "File \u001b[1;32mD:\\Projectpython\\pythonProject\\.venv\\Lib\\site-packages\\urllib3\\connectionpool.py:1099\u001b[0m, in \u001b[0;36mHTTPSConnectionPool._validate_conn\u001b[1;34m(self, conn)\u001b[0m\n\u001b[0;32m   1098\u001b[0m \u001b[38;5;28;01mif\u001b[39;00m conn\u001b[38;5;241m.\u001b[39mis_closed:\n\u001b[1;32m-> 1099\u001b[0m     \u001b[43mconn\u001b[49m\u001b[38;5;241;43m.\u001b[39;49m\u001b[43mconnect\u001b[49m\u001b[43m(\u001b[49m\u001b[43m)\u001b[49m\n\u001b[0;32m   1101\u001b[0m \u001b[38;5;66;03m# TODO revise this, see https://github.com/urllib3/urllib3/issues/2791\u001b[39;00m\n",
      "File \u001b[1;32mD:\\Projectpython\\pythonProject\\.venv\\Lib\\site-packages\\urllib3\\connection.py:616\u001b[0m, in \u001b[0;36mHTTPSConnection.connect\u001b[1;34m(self)\u001b[0m\n\u001b[0;32m    615\u001b[0m sock: socket\u001b[38;5;241m.\u001b[39msocket \u001b[38;5;241m|\u001b[39m ssl\u001b[38;5;241m.\u001b[39mSSLSocket\n\u001b[1;32m--> 616\u001b[0m \u001b[38;5;28mself\u001b[39m\u001b[38;5;241m.\u001b[39msock \u001b[38;5;241m=\u001b[39m sock \u001b[38;5;241m=\u001b[39m \u001b[38;5;28;43mself\u001b[39;49m\u001b[38;5;241;43m.\u001b[39;49m\u001b[43m_new_conn\u001b[49m\u001b[43m(\u001b[49m\u001b[43m)\u001b[49m\n\u001b[0;32m    617\u001b[0m server_hostname: \u001b[38;5;28mstr\u001b[39m \u001b[38;5;241m=\u001b[39m \u001b[38;5;28mself\u001b[39m\u001b[38;5;241m.\u001b[39mhost\n",
      "File \u001b[1;32mD:\\Projectpython\\pythonProject\\.venv\\Lib\\site-packages\\urllib3\\connection.py:205\u001b[0m, in \u001b[0;36mHTTPConnection._new_conn\u001b[1;34m(self)\u001b[0m\n\u001b[0;32m    204\u001b[0m \u001b[38;5;28;01mexcept\u001b[39;00m socket\u001b[38;5;241m.\u001b[39mgaierror \u001b[38;5;28;01mas\u001b[39;00m e:\n\u001b[1;32m--> 205\u001b[0m     \u001b[38;5;28;01mraise\u001b[39;00m NameResolutionError(\u001b[38;5;28mself\u001b[39m\u001b[38;5;241m.\u001b[39mhost, \u001b[38;5;28mself\u001b[39m, e) \u001b[38;5;28;01mfrom\u001b[39;00m \u001b[38;5;21;01me\u001b[39;00m\n\u001b[0;32m    206\u001b[0m \u001b[38;5;28;01mexcept\u001b[39;00m SocketTimeout \u001b[38;5;28;01mas\u001b[39;00m e:\n",
      "\u001b[1;31mNameResolutionError\u001b[0m: <urllib3.connection.HTTPSConnection object at 0x0000022BAD4E22D0>: Failed to resolve 'blockchain.info' ([Errno 11001] getaddrinfo failed)",
      "\nThe above exception was the direct cause of the following exception:\n",
      "\u001b[1;31mMaxRetryError\u001b[0m                             Traceback (most recent call last)",
      "File \u001b[1;32mD:\\Projectpython\\pythonProject\\.venv\\Lib\\site-packages\\requests\\adapters.py:667\u001b[0m, in \u001b[0;36mHTTPAdapter.send\u001b[1;34m(self, request, stream, timeout, verify, cert, proxies)\u001b[0m\n\u001b[0;32m    666\u001b[0m \u001b[38;5;28;01mtry\u001b[39;00m:\n\u001b[1;32m--> 667\u001b[0m     resp \u001b[38;5;241m=\u001b[39m \u001b[43mconn\u001b[49m\u001b[38;5;241;43m.\u001b[39;49m\u001b[43murlopen\u001b[49m\u001b[43m(\u001b[49m\n\u001b[0;32m    668\u001b[0m \u001b[43m        \u001b[49m\u001b[43mmethod\u001b[49m\u001b[38;5;241;43m=\u001b[39;49m\u001b[43mrequest\u001b[49m\u001b[38;5;241;43m.\u001b[39;49m\u001b[43mmethod\u001b[49m\u001b[43m,\u001b[49m\n\u001b[0;32m    669\u001b[0m \u001b[43m        \u001b[49m\u001b[43murl\u001b[49m\u001b[38;5;241;43m=\u001b[39;49m\u001b[43murl\u001b[49m\u001b[43m,\u001b[49m\n\u001b[0;32m    670\u001b[0m \u001b[43m        \u001b[49m\u001b[43mbody\u001b[49m\u001b[38;5;241;43m=\u001b[39;49m\u001b[43mrequest\u001b[49m\u001b[38;5;241;43m.\u001b[39;49m\u001b[43mbody\u001b[49m\u001b[43m,\u001b[49m\n\u001b[0;32m    671\u001b[0m \u001b[43m        \u001b[49m\u001b[43mheaders\u001b[49m\u001b[38;5;241;43m=\u001b[39;49m\u001b[43mrequest\u001b[49m\u001b[38;5;241;43m.\u001b[39;49m\u001b[43mheaders\u001b[49m\u001b[43m,\u001b[49m\n\u001b[0;32m    672\u001b[0m \u001b[43m        \u001b[49m\u001b[43mredirect\u001b[49m\u001b[38;5;241;43m=\u001b[39;49m\u001b[38;5;28;43;01mFalse\u001b[39;49;00m\u001b[43m,\u001b[49m\n\u001b[0;32m    673\u001b[0m \u001b[43m        \u001b[49m\u001b[43massert_same_host\u001b[49m\u001b[38;5;241;43m=\u001b[39;49m\u001b[38;5;28;43;01mFalse\u001b[39;49;00m\u001b[43m,\u001b[49m\n\u001b[0;32m    674\u001b[0m \u001b[43m        \u001b[49m\u001b[43mpreload_content\u001b[49m\u001b[38;5;241;43m=\u001b[39;49m\u001b[38;5;28;43;01mFalse\u001b[39;49;00m\u001b[43m,\u001b[49m\n\u001b[0;32m    675\u001b[0m \u001b[43m        \u001b[49m\u001b[43mdecode_content\u001b[49m\u001b[38;5;241;43m=\u001b[39;49m\u001b[38;5;28;43;01mFalse\u001b[39;49;00m\u001b[43m,\u001b[49m\n\u001b[0;32m    676\u001b[0m \u001b[43m        \u001b[49m\u001b[43mretries\u001b[49m\u001b[38;5;241;43m=\u001b[39;49m\u001b[38;5;28;43mself\u001b[39;49m\u001b[38;5;241;43m.\u001b[39;49m\u001b[43mmax_retries\u001b[49m\u001b[43m,\u001b[49m\n\u001b[0;32m    677\u001b[0m \u001b[43m        \u001b[49m\u001b[43mtimeout\u001b[49m\u001b[38;5;241;43m=\u001b[39;49m\u001b[43mtimeout\u001b[49m\u001b[43m,\u001b[49m\n\u001b[0;32m    678\u001b[0m \u001b[43m        \u001b[49m\u001b[43mchunked\u001b[49m\u001b[38;5;241;43m=\u001b[39;49m\u001b[43mchunked\u001b[49m\u001b[43m,\u001b[49m\n\u001b[0;32m    679\u001b[0m \u001b[43m    \u001b[49m\u001b[43m)\u001b[49m\n\u001b[0;32m    681\u001b[0m \u001b[38;5;28;01mexcept\u001b[39;00m (ProtocolError, \u001b[38;5;167;01mOSError\u001b[39;00m) \u001b[38;5;28;01mas\u001b[39;00m err:\n",
      "File \u001b[1;32mD:\\Projectpython\\pythonProject\\.venv\\Lib\\site-packages\\urllib3\\connectionpool.py:847\u001b[0m, in \u001b[0;36mHTTPConnectionPool.urlopen\u001b[1;34m(self, method, url, body, headers, retries, redirect, assert_same_host, timeout, pool_timeout, release_conn, chunked, body_pos, preload_content, decode_content, **response_kw)\u001b[0m\n\u001b[0;32m    845\u001b[0m     new_e \u001b[38;5;241m=\u001b[39m ProtocolError(\u001b[38;5;124m\"\u001b[39m\u001b[38;5;124mConnection aborted.\u001b[39m\u001b[38;5;124m\"\u001b[39m, new_e)\n\u001b[1;32m--> 847\u001b[0m retries \u001b[38;5;241m=\u001b[39m \u001b[43mretries\u001b[49m\u001b[38;5;241;43m.\u001b[39;49m\u001b[43mincrement\u001b[49m\u001b[43m(\u001b[49m\n\u001b[0;32m    848\u001b[0m \u001b[43m    \u001b[49m\u001b[43mmethod\u001b[49m\u001b[43m,\u001b[49m\u001b[43m \u001b[49m\u001b[43murl\u001b[49m\u001b[43m,\u001b[49m\u001b[43m \u001b[49m\u001b[43merror\u001b[49m\u001b[38;5;241;43m=\u001b[39;49m\u001b[43mnew_e\u001b[49m\u001b[43m,\u001b[49m\u001b[43m \u001b[49m\u001b[43m_pool\u001b[49m\u001b[38;5;241;43m=\u001b[39;49m\u001b[38;5;28;43mself\u001b[39;49m\u001b[43m,\u001b[49m\u001b[43m \u001b[49m\u001b[43m_stacktrace\u001b[49m\u001b[38;5;241;43m=\u001b[39;49m\u001b[43msys\u001b[49m\u001b[38;5;241;43m.\u001b[39;49m\u001b[43mexc_info\u001b[49m\u001b[43m(\u001b[49m\u001b[43m)\u001b[49m\u001b[43m[\u001b[49m\u001b[38;5;241;43m2\u001b[39;49m\u001b[43m]\u001b[49m\n\u001b[0;32m    849\u001b[0m \u001b[43m\u001b[49m\u001b[43m)\u001b[49m\n\u001b[0;32m    850\u001b[0m retries\u001b[38;5;241m.\u001b[39msleep()\n",
      "File \u001b[1;32mD:\\Projectpython\\pythonProject\\.venv\\Lib\\site-packages\\urllib3\\util\\retry.py:515\u001b[0m, in \u001b[0;36mRetry.increment\u001b[1;34m(self, method, url, response, error, _pool, _stacktrace)\u001b[0m\n\u001b[0;32m    514\u001b[0m     reason \u001b[38;5;241m=\u001b[39m error \u001b[38;5;129;01mor\u001b[39;00m ResponseError(cause)\n\u001b[1;32m--> 515\u001b[0m     \u001b[38;5;28;01mraise\u001b[39;00m MaxRetryError(_pool, url, reason) \u001b[38;5;28;01mfrom\u001b[39;00m \u001b[38;5;21;01mreason\u001b[39;00m  \u001b[38;5;66;03m# type: ignore[arg-type]\u001b[39;00m\n\u001b[0;32m    517\u001b[0m log\u001b[38;5;241m.\u001b[39mdebug(\u001b[38;5;124m\"\u001b[39m\u001b[38;5;124mIncremented Retry for (url=\u001b[39m\u001b[38;5;124m'\u001b[39m\u001b[38;5;132;01m%s\u001b[39;00m\u001b[38;5;124m'\u001b[39m\u001b[38;5;124m): \u001b[39m\u001b[38;5;132;01m%r\u001b[39;00m\u001b[38;5;124m\"\u001b[39m, url, new_retry)\n",
      "\u001b[1;31mMaxRetryError\u001b[0m: HTTPSConnectionPool(host='blockchain.info', port=443): Max retries exceeded with url: /ticker (Caused by NameResolutionError(\"<urllib3.connection.HTTPSConnection object at 0x0000022BAD4E22D0>: Failed to resolve 'blockchain.info' ([Errno 11001] getaddrinfo failed)\"))",
      "\nDuring handling of the above exception, another exception occurred:\n",
      "\u001b[1;31mConnectionError\u001b[0m                           Traceback (most recent call last)",
      "Cell \u001b[1;32mIn[19], line 4\u001b[0m\n\u001b[0;32m      1\u001b[0m \u001b[38;5;28;01mimport\u001b[39;00m \u001b[38;5;21;01mrequests\u001b[39;00m\n\u001b[0;32m      3\u001b[0m url \u001b[38;5;241m=\u001b[39m \u001b[38;5;124m'\u001b[39m\u001b[38;5;124mhttps://blockchain.info/ticker\u001b[39m\u001b[38;5;124m'\u001b[39m\n\u001b[1;32m----> 4\u001b[0m \u001b[43mrequests\u001b[49m\u001b[38;5;241;43m.\u001b[39;49m\u001b[43mget\u001b[49m\u001b[43m(\u001b[49m\u001b[43murl\u001b[49m\u001b[43m)\u001b[49m\n",
      "File \u001b[1;32mD:\\Projectpython\\pythonProject\\.venv\\Lib\\site-packages\\requests\\api.py:73\u001b[0m, in \u001b[0;36mget\u001b[1;34m(url, params, **kwargs)\u001b[0m\n\u001b[0;32m     62\u001b[0m \u001b[38;5;28;01mdef\u001b[39;00m \u001b[38;5;21mget\u001b[39m(url, params\u001b[38;5;241m=\u001b[39m\u001b[38;5;28;01mNone\u001b[39;00m, \u001b[38;5;241m*\u001b[39m\u001b[38;5;241m*\u001b[39mkwargs):\n\u001b[0;32m     63\u001b[0m \u001b[38;5;250m    \u001b[39m\u001b[38;5;124mr\u001b[39m\u001b[38;5;124;03m\"\"\"Sends a GET request.\u001b[39;00m\n\u001b[0;32m     64\u001b[0m \n\u001b[0;32m     65\u001b[0m \u001b[38;5;124;03m    :param url: URL for the new :class:`Request` object.\u001b[39;00m\n\u001b[1;32m   (...)\u001b[0m\n\u001b[0;32m     70\u001b[0m \u001b[38;5;124;03m    :rtype: requests.Response\u001b[39;00m\n\u001b[0;32m     71\u001b[0m \u001b[38;5;124;03m    \"\"\"\u001b[39;00m\n\u001b[1;32m---> 73\u001b[0m     \u001b[38;5;28;01mreturn\u001b[39;00m \u001b[43mrequest\u001b[49m\u001b[43m(\u001b[49m\u001b[38;5;124;43m\"\u001b[39;49m\u001b[38;5;124;43mget\u001b[39;49m\u001b[38;5;124;43m\"\u001b[39;49m\u001b[43m,\u001b[49m\u001b[43m \u001b[49m\u001b[43murl\u001b[49m\u001b[43m,\u001b[49m\u001b[43m \u001b[49m\u001b[43mparams\u001b[49m\u001b[38;5;241;43m=\u001b[39;49m\u001b[43mparams\u001b[49m\u001b[43m,\u001b[49m\u001b[43m \u001b[49m\u001b[38;5;241;43m*\u001b[39;49m\u001b[38;5;241;43m*\u001b[39;49m\u001b[43mkwargs\u001b[49m\u001b[43m)\u001b[49m\n",
      "File \u001b[1;32mD:\\Projectpython\\pythonProject\\.venv\\Lib\\site-packages\\requests\\api.py:59\u001b[0m, in \u001b[0;36mrequest\u001b[1;34m(method, url, **kwargs)\u001b[0m\n\u001b[0;32m     55\u001b[0m \u001b[38;5;66;03m# By using the 'with' statement we are sure the session is closed, thus we\u001b[39;00m\n\u001b[0;32m     56\u001b[0m \u001b[38;5;66;03m# avoid leaving sockets open which can trigger a ResourceWarning in some\u001b[39;00m\n\u001b[0;32m     57\u001b[0m \u001b[38;5;66;03m# cases, and look like a memory leak in others.\u001b[39;00m\n\u001b[0;32m     58\u001b[0m \u001b[38;5;28;01mwith\u001b[39;00m sessions\u001b[38;5;241m.\u001b[39mSession() \u001b[38;5;28;01mas\u001b[39;00m session:\n\u001b[1;32m---> 59\u001b[0m     \u001b[38;5;28;01mreturn\u001b[39;00m \u001b[43msession\u001b[49m\u001b[38;5;241;43m.\u001b[39;49m\u001b[43mrequest\u001b[49m\u001b[43m(\u001b[49m\u001b[43mmethod\u001b[49m\u001b[38;5;241;43m=\u001b[39;49m\u001b[43mmethod\u001b[49m\u001b[43m,\u001b[49m\u001b[43m \u001b[49m\u001b[43murl\u001b[49m\u001b[38;5;241;43m=\u001b[39;49m\u001b[43murl\u001b[49m\u001b[43m,\u001b[49m\u001b[43m \u001b[49m\u001b[38;5;241;43m*\u001b[39;49m\u001b[38;5;241;43m*\u001b[39;49m\u001b[43mkwargs\u001b[49m\u001b[43m)\u001b[49m\n",
      "File \u001b[1;32mD:\\Projectpython\\pythonProject\\.venv\\Lib\\site-packages\\requests\\sessions.py:589\u001b[0m, in \u001b[0;36mSession.request\u001b[1;34m(self, method, url, params, data, headers, cookies, files, auth, timeout, allow_redirects, proxies, hooks, stream, verify, cert, json)\u001b[0m\n\u001b[0;32m    584\u001b[0m send_kwargs \u001b[38;5;241m=\u001b[39m {\n\u001b[0;32m    585\u001b[0m     \u001b[38;5;124m\"\u001b[39m\u001b[38;5;124mtimeout\u001b[39m\u001b[38;5;124m\"\u001b[39m: timeout,\n\u001b[0;32m    586\u001b[0m     \u001b[38;5;124m\"\u001b[39m\u001b[38;5;124mallow_redirects\u001b[39m\u001b[38;5;124m\"\u001b[39m: allow_redirects,\n\u001b[0;32m    587\u001b[0m }\n\u001b[0;32m    588\u001b[0m send_kwargs\u001b[38;5;241m.\u001b[39mupdate(settings)\n\u001b[1;32m--> 589\u001b[0m resp \u001b[38;5;241m=\u001b[39m \u001b[38;5;28;43mself\u001b[39;49m\u001b[38;5;241;43m.\u001b[39;49m\u001b[43msend\u001b[49m\u001b[43m(\u001b[49m\u001b[43mprep\u001b[49m\u001b[43m,\u001b[49m\u001b[43m \u001b[49m\u001b[38;5;241;43m*\u001b[39;49m\u001b[38;5;241;43m*\u001b[39;49m\u001b[43msend_kwargs\u001b[49m\u001b[43m)\u001b[49m\n\u001b[0;32m    591\u001b[0m \u001b[38;5;28;01mreturn\u001b[39;00m resp\n",
      "File \u001b[1;32mD:\\Projectpython\\pythonProject\\.venv\\Lib\\site-packages\\requests\\sessions.py:703\u001b[0m, in \u001b[0;36mSession.send\u001b[1;34m(self, request, **kwargs)\u001b[0m\n\u001b[0;32m    700\u001b[0m start \u001b[38;5;241m=\u001b[39m preferred_clock()\n\u001b[0;32m    702\u001b[0m \u001b[38;5;66;03m# Send the request\u001b[39;00m\n\u001b[1;32m--> 703\u001b[0m r \u001b[38;5;241m=\u001b[39m \u001b[43madapter\u001b[49m\u001b[38;5;241;43m.\u001b[39;49m\u001b[43msend\u001b[49m\u001b[43m(\u001b[49m\u001b[43mrequest\u001b[49m\u001b[43m,\u001b[49m\u001b[43m \u001b[49m\u001b[38;5;241;43m*\u001b[39;49m\u001b[38;5;241;43m*\u001b[39;49m\u001b[43mkwargs\u001b[49m\u001b[43m)\u001b[49m\n\u001b[0;32m    705\u001b[0m \u001b[38;5;66;03m# Total elapsed time of the request (approximately)\u001b[39;00m\n\u001b[0;32m    706\u001b[0m elapsed \u001b[38;5;241m=\u001b[39m preferred_clock() \u001b[38;5;241m-\u001b[39m start\n",
      "File \u001b[1;32mD:\\Projectpython\\pythonProject\\.venv\\Lib\\site-packages\\requests\\adapters.py:700\u001b[0m, in \u001b[0;36mHTTPAdapter.send\u001b[1;34m(self, request, stream, timeout, verify, cert, proxies)\u001b[0m\n\u001b[0;32m    696\u001b[0m     \u001b[38;5;28;01mif\u001b[39;00m \u001b[38;5;28misinstance\u001b[39m(e\u001b[38;5;241m.\u001b[39mreason, _SSLError):\n\u001b[0;32m    697\u001b[0m         \u001b[38;5;66;03m# This branch is for urllib3 v1.22 and later.\u001b[39;00m\n\u001b[0;32m    698\u001b[0m         \u001b[38;5;28;01mraise\u001b[39;00m SSLError(e, request\u001b[38;5;241m=\u001b[39mrequest)\n\u001b[1;32m--> 700\u001b[0m     \u001b[38;5;28;01mraise\u001b[39;00m \u001b[38;5;167;01mConnectionError\u001b[39;00m(e, request\u001b[38;5;241m=\u001b[39mrequest)\n\u001b[0;32m    702\u001b[0m \u001b[38;5;28;01mexcept\u001b[39;00m ClosedPoolError \u001b[38;5;28;01mas\u001b[39;00m e:\n\u001b[0;32m    703\u001b[0m     \u001b[38;5;28;01mraise\u001b[39;00m \u001b[38;5;167;01mConnectionError\u001b[39;00m(e, request\u001b[38;5;241m=\u001b[39mrequest)\n",
      "\u001b[1;31mConnectionError\u001b[0m: HTTPSConnectionPool(host='blockchain.info', port=443): Max retries exceeded with url: /ticker (Caused by NameResolutionError(\"<urllib3.connection.HTTPSConnection object at 0x0000022BAD4E22D0>: Failed to resolve 'blockchain.info' ([Errno 11001] getaddrinfo failed)\"))"
     ]
    }
   ],
   "source": [
    "import requests\n",
    "\n",
    "url = 'https://blockchain.info/ticker'\n",
    "response = requests.get(url)"
   ]
  },
  {
   "cell_type": "code",
   "execution_count": 21,
   "id": "e0741f34-d8a6-4a40-91a7-e81f4cffbb32",
   "metadata": {
    "collapsed": true,
    "jupyter": {
     "outputs_hidden": true
    }
   },
   "outputs": [
    {
     "name": "stdout",
     "output_type": "stream",
     "text": [
      "{'ARS': {'15m': 60482267.96, 'last': 60482267.96, 'buy': 60482267.96, 'sell': 60482267.96, 'symbol': 'ARS'}, 'AUD': {'15m': 92208.33, 'last': 92208.33, 'buy': 92208.33, 'sell': 92208.33, 'symbol': 'AUD'}, 'BRL': {'15m': 343697.3, 'last': 343697.3, 'buy': 343697.3, 'sell': 343697.3, 'symbol': 'BRL'}, 'CAD': {'15m': 84872.16, 'last': 84872.16, 'buy': 84872.16, 'sell': 84872.16, 'symbol': 'CAD'}, 'CHF': {'15m': 53225.95, 'last': 53225.95, 'buy': 53225.95, 'sell': 53225.95, 'symbol': 'CHF'}, 'CLP': {'15m': 58030862.67, 'last': 58030862.67, 'buy': 58030862.67, 'sell': 58030862.67, 'symbol': 'CLP'}, 'CNY': {'15m': 438941.79, 'last': 438941.79, 'buy': 438941.79, 'sell': 438941.79, 'symbol': 'CNY'}, 'CZK': {'15m': 1435168.46, 'last': 1435168.46, 'buy': 1435168.46, 'sell': 1435168.46, 'symbol': 'CZK'}, 'DKK': {'15m': 422477.02, 'last': 422477.02, 'buy': 422477.02, 'sell': 422477.02, 'symbol': 'DKK'}, 'EUR': {'15m': 56643.68, 'last': 56643.68, 'buy': 56643.68, 'sell': 56643.68, 'symbol': 'EUR'}, 'GBP': {'15m': 47467.76, 'last': 47467.76, 'buy': 47467.76, 'sell': 47467.76, 'symbol': 'GBP'}, 'HKD': {'15m': 482677.01, 'last': 482677.01, 'buy': 482677.01, 'sell': 482677.01, 'symbol': 'HKD'}, 'HRK': {'15m': 286414.31, 'last': 286414.31, 'buy': 286414.31, 'sell': 286414.31, 'symbol': 'HRK'}, 'HUF': {'15m': 22644704.58, 'last': 22644704.58, 'buy': 22644704.58, 'sell': 22644704.58, 'symbol': 'HUF'}, 'INR': {'15m': 5213700.11, 'last': 5213700.11, 'buy': 5213700.11, 'sell': 5213700.11, 'symbol': 'INR'}, 'ISK': {'15m': 8117688.04, 'last': 8117688.04, 'buy': 8117688.04, 'sell': 8117688.04, 'symbol': 'ISK'}, 'JPY': {'15m': 9230702.24, 'last': 9230702.24, 'buy': 9230702.24, 'sell': 9230702.24, 'symbol': 'JPY'}, 'KRW': {'15m': 83447905.55, 'last': 83447905.55, 'buy': 83447905.55, 'sell': 83447905.55, 'symbol': 'KRW'}, 'NZD': {'15m': 102037.71, 'last': 102037.71, 'buy': 102037.71, 'sell': 102037.71, 'symbol': 'NZD'}, 'PLN': {'15m': 243526.54, 'last': 243526.54, 'buy': 243526.54, 'sell': 243526.54, 'symbol': 'PLN'}, 'RON': {'15m': 227636.49, 'last': 227636.49, 'buy': 227636.49, 'sell': 227636.49, 'symbol': 'RON'}, 'RUB': {'15m': 6023053.54, 'last': 6023053.54, 'buy': 6023053.54, 'sell': 6023053.54, 'symbol': 'RUB'}, 'SEK': {'15m': 643515.33, 'last': 643515.33, 'buy': 643515.33, 'sell': 643515.33, 'symbol': 'SEK'}, 'SGD': {'15m': 80982.96, 'last': 80982.96, 'buy': 80982.96, 'sell': 80982.96, 'symbol': 'SGD'}, 'THB': {'15m': 2077974.06, 'last': 2077974.06, 'buy': 2077974.06, 'sell': 2077974.06, 'symbol': 'THB'}, 'TRY': {'15m': 2127493.0, 'last': 2127493.0, 'buy': 2127493.0, 'sell': 2127493.0, 'symbol': 'TRY'}, 'TWD': {'15m': 1999941.82, 'last': 1999941.82, 'buy': 1999941.82, 'sell': 1999941.82, 'symbol': 'TWD'}, 'USD': {'15m': 62093.02, 'last': 62093.02, 'buy': 62093.02, 'sell': 62093.02, 'symbol': 'USD'}}\n"
     ]
    }
   ],
   "source": [
    "data = response.json()\n",
    "print(data)"
   ]
  },
  {
   "cell_type": "code",
   "execution_count": 23,
   "id": "5ae96755-b627-46e9-80f1-5a3c35488dfa",
   "metadata": {
    "collapsed": true,
    "jupyter": {
     "outputs_hidden": true
    }
   },
   "outputs": [
    {
     "data": {
      "text/plain": [
       "60482267.96"
      ]
     },
     "execution_count": 23,
     "metadata": {},
     "output_type": "execute_result"
    }
   ],
   "source": [
    "data['ARS']['buy']"
   ]
  },
  {
   "cell_type": "code",
   "execution_count": 28,
   "id": "e6112862-9c90-4cd0-af2f-0b4bfc7119f1",
   "metadata": {},
   "outputs": [
    {
     "name": "stdout",
     "output_type": "stream",
     "text": [
      "Once upon a time\n",
      "\n",
      "There was a kingdom\n",
      "\n",
      "The kingdom was great\n",
      "\n",
      "The end\n"
     ]
    }
   ],
   "source": [
    "# Read file\n",
    "file = open('story.txt', 'r')\n",
    "file.read()\n",
    "for line in file:\n",
    "    print(line)\n",
    "file.close()"
   ]
  },
  {
   "cell_type": "code",
   "execution_count": 29,
   "id": "c69d6e40-b61f-468d-b130-b4f15e293973",
   "metadata": {},
   "outputs": [],
   "source": [
    "#Writing file\n",
    "new_file = open('new_file.txt', 'w')\n",
    "new_file.write('Hello this is some new text')\n",
    "new_file.close()"
   ]
  },
  {
   "cell_type": "code",
   "execution_count": 1,
   "id": "e168fcae-fef4-4e8e-8b43-8f33d4fd7b44",
   "metadata": {},
   "outputs": [
    {
     "name": "stdout",
     "output_type": "stream",
     "text": [
      "Hey this is working ... cool!\n",
      "Hi there Van Anh. Good to meet you.\n"
     ]
    },
    {
     "name": "stdin",
     "output_type": "stream",
     "text": [
      "Please provide a number. We will multiply it by 100:  10\n"
     ]
    },
    {
     "name": "stdout",
     "output_type": "stream",
     "text": [
      "Your number is: 1000\n"
     ]
    }
   ],
   "source": [
    "import create_module\n",
    "create_module.output_message()\n",
    "create_module.welcome_by_name('Van Anh')\n",
    "create_module.multiply()"
   ]
  },
  {
   "cell_type": "code",
   "execution_count": 25,
   "id": "c3002152-c101-480f-8e03-350e30c9616b",
   "metadata": {},
   "outputs": [
    {
     "name": "stdout",
     "output_type": "stream",
     "text": [
      "Hi Van Anh.\n",
      "2 - 1 = 1\n",
      "a b\n"
     ]
    }
   ],
   "source": [
    "class My_class:\n",
    "    name = 'Mr Van Anh'\n",
    "    age = 23\n",
    "    my_list_of_potatoes = ['big one', 'small one', 'one as big as my potatoes leg']\n",
    "\n",
    "    def my_method(name):\n",
    "        print(\"Hi {}.\".format(name))\n",
    "\n",
    "    def subtractor(num_one, num_two):\n",
    "        num_three = num_two - num_one\n",
    "        print(\"{} - {} = {}\".format(num_two, num_one,num_three))\n",
    "\n",
    "    def print_stuff(a, b):\n",
    "\n",
    "        print(a, b)\n",
    "        \n",
    "My_class.my_method('Van Anh')\n",
    "My_class.subtractor(1, 2)\n",
    "My_class.print_stuff('a', 'b')"
   ]
  },
  {
   "cell_type": "code",
   "execution_count": 41,
   "id": "2abeaeff-a8b2-488d-9e73-49de111723bd",
   "metadata": {},
   "outputs": [],
   "source": [
    "#__init__\n",
    "class Animals:\n",
    "    def __init__(self, name, noise, colour, num_of_legs):\n",
    "        self.name = name\n",
    "        self.noise = noise\n",
    "        self.colour = colour\n",
    "        self.num_of_legs = num_of_legs\n",
    "\n",
    "    def describe(self):\n",
    "        print('The {} is {} and it makes the noise: {}'.format(self.name, self.colour, self.noise))"
   ]
  },
  {
   "cell_type": "code",
   "execution_count": 42,
   "id": "84e3dd17-5078-496f-b23d-ab903ad3c710",
   "metadata": {},
   "outputs": [],
   "source": [
    "tiger = Animals('Tiger', 'RWaaawwr', 'Orange and Black', 4)\n",
    "orangutan = Animals('Orangutan', 'Oooo', 'Orange', 2)\n",
    "dolphin = Animals('Dolphin', 'reeee', 'Grey', 0)"
   ]
  },
  {
   "cell_type": "code",
   "execution_count": 45,
   "id": "02d0e941-27dd-41cf-b195-e3520dda7bb9",
   "metadata": {},
   "outputs": [
    {
     "name": "stdout",
     "output_type": "stream",
     "text": [
      "The Dolphin is Grey and it makes the noise: reeee\n"
     ]
    }
   ],
   "source": [
    "dolphin.describe()"
   ]
  },
  {
   "cell_type": "code",
   "execution_count": 33,
   "id": "62d3c6e8-2737-420a-adb9-8ad31523f93b",
   "metadata": {},
   "outputs": [],
   "source": [
    "class House:\n",
    "    def __init__(self, address, num_of_rooms, market_value, distance_from_school, SqM, back_garden):\n",
    "        self.address = address\n",
    "        self.num_of_room = num_of_room\n",
    "        self.market_value = market_value\n",
    "        self.distance_from_school = distance_from_school\n",
    "        self.SqM = SqM\n",
    "        self.back_garden = back_garden"
   ]
  },
  {
   "cell_type": "code",
   "execution_count": null,
   "id": "9891c20d-b694-42fc-8f5d-238abb85a77f",
   "metadata": {},
   "outputs": [],
   "source": [
    "house_1024 = House('101 Fake Street', 8, 10000, 2, 120, True)\n",
    "house_5209 = House('103 Great Road', 100, 1000000, 0.5, 300, True)"
   ]
  },
  {
   "cell_type": "code",
   "execution_count": 48,
   "id": "a455315e-04f2-42a9-9dd3-3d5f3c0087b6",
   "metadata": {},
   "outputs": [],
   "source": [
    "class Person:\n",
    "    def __init__(self, age):\n",
    "        self.age = age\n",
    "\n",
    "    def plus_year(self):\n",
    "        self.age += 1\n",
    "\n",
    "    def show_age(self):\n",
    "        print(\"Your age is {}\".format(self.age))"
   ]
  },
  {
   "cell_type": "code",
   "execution_count": 49,
   "id": "1609a647-eb16-45a1-aa44-ddd8d48d7f39",
   "metadata": {},
   "outputs": [],
   "source": [
    "me = Person(100)"
   ]
  },
  {
   "cell_type": "code",
   "execution_count": 58,
   "id": "36ec65d8-1522-40dd-970c-bd1e4d64b375",
   "metadata": {},
   "outputs": [
    {
     "name": "stdout",
     "output_type": "stream",
     "text": [
      "Your age is 105\n"
     ]
    }
   ],
   "source": [
    "me.show_age()"
   ]
  },
  {
   "cell_type": "code",
   "execution_count": 59,
   "id": "b82027b5-f7b3-4edf-814d-dfdec9f1a566",
   "metadata": {},
   "outputs": [],
   "source": [
    "me.plus_year()"
   ]
  },
  {
   "cell_type": "code",
   "execution_count": 94,
   "id": "863375cf-7d78-4f4b-87bb-d41306263def",
   "metadata": {},
   "outputs": [],
   "source": [
    "class Warrior:\n",
    "    def __init__(self, name, strength, health):\n",
    "        self.name = name\n",
    "        self.strength = strength\n",
    "        self.health = health\n",
    "\n",
    "    def report(self):\n",
    "        print(\"Hi {}. Your strength is: {} and your health is: {}.\".format(self.name, self.strength, self.health))\n",
    "\n",
    "    def heal(self):\n",
    "        self.health += 1\n",
    "\n",
    "    # def damage(self):\n",
    "    #     self.health -= 1\n",
    "\n",
    "    def damage(self, damage_amount):\n",
    "        self.health -= damage_amount\n",
    "    \n",
    "    def workout(self):\n",
    "        self.strength += 1"
   ]
  },
  {
   "cell_type": "code",
   "execution_count": 95,
   "id": "77ee25b6-8bae-4573-bcfc-2697b8914b9c",
   "metadata": {},
   "outputs": [],
   "source": [
    "warrior_one = Warrior('Reginald the warrior', 10, 100)"
   ]
  },
  {
   "cell_type": "code",
   "execution_count": 96,
   "id": "78e1d512-1ac6-4fd9-868d-42c831493255",
   "metadata": {},
   "outputs": [
    {
     "data": {
      "text/plain": [
       "'Reginald the warrior'"
      ]
     },
     "execution_count": 96,
     "metadata": {},
     "output_type": "execute_result"
    }
   ],
   "source": [
    "warrior_one.name"
   ]
  },
  {
   "cell_type": "code",
   "execution_count": 100,
   "id": "4dee3bdf-38fa-49d6-84ca-e2c5d3a0ad18",
   "metadata": {},
   "outputs": [
    {
     "name": "stdout",
     "output_type": "stream",
     "text": [
      "Hi Reginald the warrior. Your strength is: 10 and your health is: 90.\n"
     ]
    }
   ],
   "source": [
    "warrior_one.report()"
   ]
  },
  {
   "cell_type": "code",
   "execution_count": 99,
   "id": "317203c4-4f93-48ec-ab5e-7775d4ff7c24",
   "metadata": {},
   "outputs": [],
   "source": [
    "warrior_one.damage(10)"
   ]
  },
  {
   "cell_type": "code",
   "execution_count": 120,
   "id": "8c943695-ce18-4729-a01d-ce186aa7266e",
   "metadata": {},
   "outputs": [],
   "source": [
    "#Pay Friend\n",
    "class Bank:\n",
    "    def __init__(self, account_type, name, amount):\n",
    "        self.account_type = account_type\n",
    "        self.name = name\n",
    "        self.amount = amount\n",
    "\n",
    "    def check_balance(self):\n",
    "        print('Your balance is: {}'.format(self.amount))\n",
    "\n",
    "    def deposit(self, deposit_amount):\n",
    "        self.amount += deposit_amount\n",
    "\n",
    "    def withdraw(self, withdraw_amount):\n",
    "        self.amount -= withdraw_amount"
   ]
  },
  {
   "cell_type": "code",
   "execution_count": 121,
   "id": "6edf5594-2a84-4356-b611-20979e5a3ea7",
   "metadata": {},
   "outputs": [],
   "source": [
    "va_account = Bank('Current', 'Van Anh', 500)\n",
    "ta_account = Bank('Savings', 'Tuan Anh', 10)"
   ]
  },
  {
   "cell_type": "code",
   "execution_count": 128,
   "id": "6195f75b-cf99-464c-abc3-9b79966b5d23",
   "metadata": {},
   "outputs": [
    {
     "name": "stdout",
     "output_type": "stream",
     "text": [
      "Welcome to the PayFriend bank\n"
     ]
    },
    {
     "name": "stdin",
     "output_type": "stream",
     "text": [
      "Name entering:  Van Anh\n",
      "Deposit or Withdraw? (d / w) d\n",
      "Amount is:  200\n"
     ]
    },
    {
     "name": "stdout",
     "output_type": "stream",
     "text": [
      "Your balance is: 700\n"
     ]
    },
    {
     "name": "stdin",
     "output_type": "stream",
     "text": [
      "Name entering:  Tuan Anh\n",
      "Deposit or Withdraw? (d / w) w\n",
      "Amount is:  10\n"
     ]
    },
    {
     "name": "stdout",
     "output_type": "stream",
     "text": [
      "Your balance is: 490\n"
     ]
    },
    {
     "name": "stdin",
     "output_type": "stream",
     "text": [
      "Name entering:  \n"
     ]
    },
    {
     "name": "stdout",
     "output_type": "stream",
     "text": [
      "Quit PayFriend\n"
     ]
    }
   ],
   "source": [
    "dict_account = {\"Van Anh\": va_account, \"Tuan Anh\": ta_account}\n",
    "print('Welcome to the PayFriend bank')\n",
    "\n",
    "while True:\n",
    "    name = input(\"Name entering: \")\n",
    "    for key, value in dict_account.items():\n",
    "        if(name == key):\n",
    "            user_choice = input('Deposit or Withdraw? (d / w)')\n",
    "            user_amount = int(input('Amount is: '))\n",
    "\n",
    "            match user_choice:\n",
    "                case 'd': value.deposit(user_amount)\n",
    "                case 'w': value.withdraw(user_amount)\n",
    "                    \n",
    "            value.check_balance()\n",
    "        \n",
    "    if(name == ''): \n",
    "        print('Quit PayFriend')\n",
    "        break\n",
    "    \n",
    "    "
   ]
  },
  {
   "cell_type": "code",
   "execution_count": 1,
   "id": "d6ba4a2f-796a-4874-81eb-9ba389befb1a",
   "metadata": {},
   "outputs": [],
   "source": [
    "#Adventure Journey\n",
    "import time\n",
    "import random\n",
    "\n",
    "wizard = {'strength':2, 'defence':1, 'magic':100, 'health':20, 'gold':20}\n",
    "dwarf = {'strength':4, 'defence':6, 'magic':20, 'health':60, 'gold':10}\n",
    "elf = {'strength':4, 'defence':4, 'magic':40, 'health':30, 'gold':15}\n",
    "\n",
    "class Character:\n",
    "    def __init__(self, strength, defence, magic, health, gold):\n",
    "        self.strength = strength\n",
    "        self.defence = defence\n",
    "        self.magic = magic\n",
    "        self.health = health\n",
    "        self.gold = gold\n",
    "\n",
    "    def stats(self):\n",
    "        print('Your stats: Strength: {}, Defence: {}, Health: {}, Gold: {}.'.format(self.strength, self.defence, self.health, self.gold))\n",
    "\n",
    "class Enemy:\n",
    "    def __init__(self, strength, defence, health):\n",
    "        self.strength = strength\n",
    "        self.defence = defence\n",
    "        self.health = health\n",
    "\n",
    "skeleton = Enemy(7, 2, 3)\n",
    "scary_cat = Enemy(10, 4, 10)"
   ]
  },
  {
   "cell_type": "code",
   "execution_count": 2,
   "id": "65cd625d-529c-4045-b97a-9cb85395f7a6",
   "metadata": {},
   "outputs": [],
   "source": [
    "def attack(attacker_strength, defender_defence):\n",
    "    damage = attacker_strength - defender_defence\n",
    "    return damage\n",
    "\n",
    "def fight(character, enemy):\n",
    "    while True:\n",
    "        #user strikes first\n",
    "        damage = attack(character.strength, enemy.defence)\n",
    "        enemy.health -= damage\n",
    "        print('WHACK - Enemy health is: {}'.format(enemy.health))\n",
    "        if enemy.health <= 0:\n",
    "            print('Enemy dies!')\n",
    "            play = True\n",
    "            break\n",
    "        time.sleep(2)\n",
    "        print('Now the Enemy attacks...')\n",
    "        time.sleep(2)\n",
    "        \n",
    "        #user strikes first\n",
    "        damage = attack(enemy.strength, character.defence)\n",
    "        character.health -= damage\n",
    "        print('WHACK - Your health is: {}'.format(character.health))\n",
    "        if character.health <= 0:\n",
    "            print('You die!')\n",
    "            play = False\n",
    "            break\n",
    "        time.sleep(2)\n",
    "        print('Now the you attacks...')\n",
    "        time.sleep(2)\n",
    "    return play"
   ]
  },
  {
   "cell_type": "code",
   "execution_count": 3,
   "id": "b8418726-4ca9-4b60-8514-73d31179e1f9",
   "metadata": {},
   "outputs": [
    {
     "name": "stdin",
     "output_type": "stream",
     "text": [
      "Choose your race, wizard(w), dwarf(d) or elf(e):  e\n"
     ]
    },
    {
     "name": "stdout",
     "output_type": "stream",
     "text": [
      "You may now add points to whichever stat you want\n",
      "Points available: 5\n",
      "Your stats: Strength: 4, Defence: 4, Health: 30, Gold: 15.\n"
     ]
    },
    {
     "name": "stdin",
     "output_type": "stream",
     "text": [
      "Which attribute do you want to add to? (s/d):  1\n"
     ]
    },
    {
     "name": "stdout",
     "output_type": "stream",
     "text": [
      "Points available: 4\n",
      "Your stats: Strength: 4, Defence: 4, Health: 30, Gold: 15.\n"
     ]
    },
    {
     "name": "stdin",
     "output_type": "stream",
     "text": [
      "Which attribute do you want to add to? (s/d):  \n"
     ]
    },
    {
     "name": "stdout",
     "output_type": "stream",
     "text": [
      "Your stats: Strength: 4, Defence: 4, Health: 30, Gold: 15.\n",
      "Points used up now!\n",
      "Welcome warrior\n"
     ]
    },
    {
     "name": "stdin",
     "output_type": "stream",
     "text": [
      "What is your name?:  Van Anh\n"
     ]
    },
    {
     "name": "stdout",
     "output_type": "stream",
     "text": [
      "Hello Van Anh\n"
     ]
    }
   ],
   "source": [
    "#Create character\n",
    "\n",
    "available_points = 5\n",
    "user_race = input('Choose your race, wizard(w), dwarf(d) or elf(e): ')\n",
    "\n",
    "match user_race:\n",
    "    case 'w': \n",
    "        user_character = Character(wizard['strength'], wizard['defence'], wizard['magic'], wizard['health'], wizard['gold'])\n",
    "    case 'd':\n",
    "        user_character = Character(dwarf['strength'], dwarf['defence'], dwarf['magic'], dwarf['health'], dwarf['gold'])\n",
    "    case 'e':\n",
    "        user_character = Character(elf['strength'], elf['defence'], elf['magic'], elf['health'], elf['gold'])\n",
    "\n",
    "print('You may now add points to whichever stat you want')\n",
    "while available_points > 0:\n",
    "    print('Points available: {}'.format(available_points))\n",
    "    user_character.stats()\n",
    "    point_choice = input('Which attribute do you want to add to? (s/d): ')\n",
    "    match point_choice:\n",
    "        case 's':\n",
    "            user_character.strength += 1\n",
    "        case 'd': \n",
    "            user_character.defence += 1\n",
    "        case '':\n",
    "            break\n",
    "\n",
    "    available_points -= 1\n",
    "\n",
    "user_character.stats()\n",
    "print('Points used up now!')\n",
    "time.sleep(3)\n",
    "print('Welcome warrior')\n",
    "user_name = input('What is your name?: ')\n",
    "print('Hello {}'.format(user_name))"
   ]
  },
  {
   "cell_type": "code",
   "execution_count": 4,
   "id": "827c0ef0-46b0-48f8-94ae-d68d4b95ab6e",
   "metadata": {},
   "outputs": [
    {
     "name": "stdout",
     "output_type": "stream",
     "text": [
      "Your stats, Van Anh: Health: 30, Gold: 15.\n",
      "Van Anh, as you walk down the path form your you realise you want treasure. There are two paths. To the left is a skeleton (1), to the right is some guy with money (2), up a tree is a scary looking cat (3)\n"
     ]
    },
    {
     "name": "stdin",
     "output_type": "stream",
     "text": [
      "Which yould you like to do?:  1\n",
      "You see .. a skeleton. Fight? (y/n) y\n"
     ]
    },
    {
     "name": "stdout",
     "output_type": "stream",
     "text": [
      "WHACK - Enemy health is: 1\n",
      "Now the Enemy attacks...\n",
      "WHACK - Your health is: 27\n",
      "Now the you attacks...\n",
      "WHACK - Enemy health is: -1\n",
      "Enemy dies!\n",
      "Your stats, Van Anh: Health: 27, Gold: 15.\n",
      "Van Anh, as you walk down the path form your you realise you want treasure. There are two paths. To the left is a skeleton (1), to the right is some guy with money (2), up a tree is a scary looking cat (3)\n"
     ]
    },
    {
     "name": "stdin",
     "output_type": "stream",
     "text": [
      "Which yould you like to do?:  3\n"
     ]
    },
    {
     "name": "stdout",
     "output_type": "stream",
     "text": [
      "The scary cat ran away...\n",
      "Your stats, Van Anh: Health: 27, Gold: 15.\n",
      "Van Anh, as you walk down the path form your you realise you want treasure. There are two paths. To the left is a skeleton (1), to the right is some guy with money (2), up a tree is a scary looking cat (3)\n"
     ]
    },
    {
     "name": "stdin",
     "output_type": "stream",
     "text": [
      "Which yould you like to do?:  3\n",
      "You see .. a scary cat. Fight? (y/n) y\n"
     ]
    },
    {
     "name": "stdout",
     "output_type": "stream",
     "text": [
      "WHACK - Enemy health is: 10\n",
      "Now the Enemy attacks...\n",
      "WHACK - Your health is: 15\n",
      "Now the you attacks...\n",
      "WHACK - Enemy health is: 10\n",
      "Now the Enemy attacks...\n",
      "WHACK - Your health is: 3\n",
      "Now the you attacks...\n",
      "WHACK - Enemy health is: 10\n",
      "Now the Enemy attacks...\n",
      "WHACK - Your health is: -9\n",
      "You die!\n"
     ]
    }
   ],
   "source": [
    "play = True\n",
    "while play == True:\n",
    "    print('Your stats, {}: Health: {}, Gold: {}.'.format(user_name, user_character.health, user_character.gold))\n",
    "    print('{}, as you walk down the path form your you realise you want treasure. There are two paths. To the left is a skeleton (1), to the right is some guy with money (2), up a tree is a scary looking cat (3)'.format(user_name))\n",
    "    user_path_choice = input('Which yould you like to do?: ')\n",
    "    \n",
    "    match user_path_choice:\n",
    "        case '1':\n",
    "            if random.uniform(0,1) < 0.6:\n",
    "                fight_option = input('You see .. a skeleton. Fight? (y/n)')\n",
    "                match fight_option:\n",
    "                    case 'y':\n",
    "                        play = fight(user_character, skeleton)\n",
    "                            \n",
    "                    case 'n':\n",
    "                        print('Return ...')\n",
    "            else: \n",
    "                print('The skeleton ran away...')\n",
    "                \n",
    "        case '2':\n",
    "            help_option = input('The rich dude says can you help me? If you help I will give you money (y/n)')\n",
    "            match help_option:\n",
    "                case 'y':\n",
    "                    print('He says that was nice. Here is some money')\n",
    "                    user_character.gold += 100\n",
    "                case 'n':\n",
    "                    print('How rude... **SLAP**')\n",
    "                    user_character.health -= 1\n",
    "    \n",
    "        case '3':\n",
    "            if random.uniform(0,1) < 0.6:\n",
    "                fight_option = input('You see .. a scary cat. Fight? (y/n)')\n",
    "                match fight_option:\n",
    "                    case 'y':\n",
    "                        play = fight(user_character, scary_cat)\n",
    "                            \n",
    "                    case 'n':\n",
    "                        print('Return...')\n",
    "            else:\n",
    "                print('The scary cat ran away...')"
   ]
  },
  {
   "cell_type": "code",
   "execution_count": 11,
   "id": "7219714a-36c4-4eb8-a686-fb3a15ff59df",
   "metadata": {},
   "outputs": [
    {
     "name": "stdout",
     "output_type": "stream",
     "text": [
      "9\n",
      "9\n"
     ]
    }
   ],
   "source": [
    "#Lambda\n",
    "def my_function(x):\n",
    "    return x * x\n",
    "\n",
    "print(my_function(3))\n",
    "\n",
    "my_lambda = lambda x: x*x\n",
    "print(my_lambda(3))"
   ]
  },
  {
   "cell_type": "code",
   "execution_count": 13,
   "id": "382c8094-526e-432e-b9ee-8fcdeebe4d9b",
   "metadata": {},
   "outputs": [
    {
     "name": "stdout",
     "output_type": "stream",
     "text": [
      "[9, 25, 49]\n"
     ]
    }
   ],
   "source": [
    "#Map\n",
    "list_of_nums = [3, 5, 7]\n",
    "\n",
    "list_of_large_nums = list(map(my_lambda, list_of_nums))\n",
    "\n",
    "print(list_of_large_nums)"
   ]
  },
  {
   "cell_type": "code",
   "execution_count": 15,
   "id": "94cb10a8-9ff5-4035-9122-2e4f41da2c9a",
   "metadata": {},
   "outputs": [
    {
     "name": "stdout",
     "output_type": "stream",
     "text": [
      "[2, 4, 6, 8, 10]\n"
     ]
    }
   ],
   "source": [
    "old_nums = [1, 3, 5, 7, 9]\n",
    "new_nums = list(map(lambda x: x + 1, old_nums))\n",
    "print(new_nums)"
   ]
  },
  {
   "cell_type": "code",
   "execution_count": 16,
   "id": "b1d14f19-177a-47c8-8f0e-5933531274d1",
   "metadata": {},
   "outputs": [
    {
     "name": "stdout",
     "output_type": "stream",
     "text": [
      "(1, 3, 5, 7, 9)\n"
     ]
    }
   ],
   "source": [
    "old_num_tuple = (2, 4, 6, 8, 10)\n",
    "new_num_tuple = tuple(map(lambda x: x - 1, old_num_tuple))\n",
    "print(new_num_tuple)"
   ]
  },
  {
   "cell_type": "code",
   "execution_count": 19,
   "id": "c46d253d-13a8-4319-9202-80c388becf85",
   "metadata": {},
   "outputs": [
    {
     "name": "stdout",
     "output_type": "stream",
     "text": [
      "[10, 10, 10, 10, 10]\n"
     ]
    }
   ],
   "source": [
    "list_one = [1, 2, 3, 4, 5]\n",
    "list_two = [9, 8, 7, 6, 5]\n",
    "list_three = list(map(lambda x, y: x+y, list_one, list_two))\n",
    "print(list_three)"
   ]
  },
  {
   "cell_type": "code",
   "execution_count": 23,
   "id": "ae5b5761-a746-437b-b44c-6a111c00721f",
   "metadata": {},
   "outputs": [
    {
     "name": "stdout",
     "output_type": "stream",
     "text": [
      "[53, 72, 99]\n",
      "[False, False, True, True, False, True]\n"
     ]
    }
   ],
   "source": [
    "#Filter\n",
    "my_list = [1, 14, 53, 72, 22, 99]\n",
    "\n",
    "filtered_list = list(filter(lambda x: x >= 50, my_list))\n",
    "check_list = list(map(lambda x: x >= 50, my_list))\n",
    "\n",
    "print(filtered_list)\n",
    "print(check_list)"
   ]
  },
  {
   "cell_type": "code",
   "execution_count": 25,
   "id": "72fa172d-a022-4a32-87c5-4ca2fe02b0fc",
   "metadata": {},
   "outputs": [
    {
     "name": "stdout",
     "output_type": "stream",
     "text": [
      "5\n"
     ]
    }
   ],
   "source": [
    "#Generator\n",
    "def a():\n",
    "    x = 5\n",
    "    return x\n",
    "\n",
    "example = a()\n",
    "\n",
    "print(example)"
   ]
  },
  {
   "cell_type": "code",
   "execution_count": 32,
   "id": "eb184466-6c3c-4c82-aa92-fcf89383b740",
   "metadata": {},
   "outputs": [
    {
     "data": {
      "text/plain": [
       "7"
      ]
     },
     "execution_count": 32,
     "metadata": {},
     "output_type": "execute_result"
    }
   ],
   "source": [
    "def a():\n",
    "    x = 5\n",
    "    yield x\n",
    "\n",
    "    x += 1\n",
    "    yield x\n",
    "\n",
    "    x += 1\n",
    "    yield x\n",
    "\n",
    "example = a()\n",
    "\n",
    "next(example)\n",
    "next(example)\n",
    "next(example)\n"
   ]
  }
 ],
 "metadata": {
  "kernelspec": {
   "display_name": "Python 3 (ipykernel)",
   "language": "python",
   "name": "python3"
  },
  "language_info": {
   "codemirror_mode": {
    "name": "ipython",
    "version": 3
   },
   "file_extension": ".py",
   "mimetype": "text/x-python",
   "name": "python",
   "nbconvert_exporter": "python",
   "pygments_lexer": "ipython3",
   "version": "3.12.2"
  }
 },
 "nbformat": 4,
 "nbformat_minor": 5
}
